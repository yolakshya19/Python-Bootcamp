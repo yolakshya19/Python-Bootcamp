{
 "cells": [
  {
   "cell_type": "markdown",
   "metadata": {},
   "source": [
    "___\n",
    "\n",
    "<a href='https://www.udemy.com/user/joseportilla/'><img src='../Pierian_Data_Logo.png'/></a>\n",
    "___\n",
    "<center><em>Content Copyright by Pierian Data</em></center>"
   ]
  },
  {
   "cell_type": "markdown",
   "metadata": {},
   "source": [
    "# Guessing Game Challenge\n",
    "\n",
    "Let's use `while` loops to create a guessing game.\n",
    "\n",
    "The Challenge:\n",
    "\n",
    "Write a program that picks a random integer from 1 to 100, and has players guess the number. The rules are:\n",
    "\n",
    "1. If a player's guess is less than 1 or greater than 100, say \"OUT OF BOUNDS\"\n",
    "2. On a player's first turn, if their guess is\n",
    " * within 10 of the number, return \"WARM!\"\n",
    " * further than 10 away from the number, return \"COLD!\"\n",
    "3. On all subsequent turns, if a guess is \n",
    " * closer to the number than the previous guess return \"WARMER!\"\n",
    " * farther from the number than the previous guess, return \"COLDER!\"\n",
    "4. When the player's guess equals the number, tell them they've guessed correctly *and* how many guesses it took!\n",
    "\n",
    "You can try this from scratch, or follow the steps outlined below. A separate Solution notebook has been provided. Good luck!\n"
   ]
  },
  {
   "cell_type": "markdown",
   "metadata": {},
   "source": [
    "#### First, pick a random integer from 1 to 100 using the random module and assign it to a variable\n",
    "\n",
    "Note: `random.randint(a,b)` returns a random integer in range `[a, b]`, including both end points."
   ]
  },
  {
   "cell_type": "code",
   "execution_count": 36,
   "metadata": {},
   "outputs": [
    {
     "name": "stdout",
     "output_type": "stream",
     "text": [
      "61\n"
     ]
    }
   ],
   "source": [
    "from random import randint \n",
    "num=randint(1,100)\n",
    "print(num) #just for reference dont see it in the strating"
   ]
  },
  {
   "cell_type": "markdown",
   "metadata": {},
   "source": [
    "#### Next, print an introduction to the game and explain the rules"
   ]
  },
  {
   "cell_type": "code",
   "execution_count": 37,
   "metadata": {},
   "outputs": [
    {
     "name": "stdout",
     "output_type": "stream",
     "text": [
      "WELCOME to the GUESSING GAME CHALLENGE\n",
      "The computer will choose a random integer from 1 to 100 and you will have to guess the number\n",
      "On the basis of your guess you will come to know that how close or hoe far you were from the right number\n",
      "LET'S START!\n"
     ]
    }
   ],
   "source": [
    "print(\"WELCOME to the GUESSING GAME CHALLENGE\")\n",
    "print('The computer will choose a random integer from 1 to 100 and you will have to guess the number')\n",
    "print('On the basis of your guess you will come to know that how close or hoe far you were from the right number')\n",
    "print(\"LET'S START!\")"
   ]
  },
  {
   "cell_type": "markdown",
   "metadata": {},
   "source": [
    "#### Create a list to store guesses\n",
    "\n",
    "Hint: zero is a good placeholder value. It's useful because it evaluates to \"False\""
   ]
  },
  {
   "cell_type": "code",
   "execution_count": 38,
   "metadata": {},
   "outputs": [],
   "source": [
    "guesses = [0] "
   ]
  },
  {
   "cell_type": "markdown",
   "metadata": {},
   "source": [
    "#### Write a `while` loop that asks for a valid guess. Test it a few times to make sure it works."
   ]
  },
  {
   "cell_type": "code",
   "execution_count": 39,
   "metadata": {},
   "outputs": [
    {
     "name": "stdout",
     "output_type": "stream",
     "text": [
      "enter your guess from 1 to 100:45\n"
     ]
    }
   ],
   "source": [
    "while True:\n",
    "    guess=int(input(\"enter your guess from 1 to 100:\"))\n",
    "    if guess<1 or guess>100:\n",
    "        print(\"Out of bounds!\")\n",
    "        continue\n",
    "    \n",
    "    break"
   ]
  },
  {
   "cell_type": "markdown",
   "metadata": {},
   "source": [
    "#### Write a `while` loop that compares the player's guess to our number. If the player guesses correctly, break from the loop. Otherwise, tell the player if they're warmer or colder, and continue asking for guesses.\n",
    "\n",
    "Some hints:\n",
    "* it may help to sketch out all possible combinations on paper first!\n",
    "* you can use the `abs()` function to find the positive difference between two numbers\n",
    "* if you append all new guesses to the list, then the previous guess is given as `guesses[-2]`"
   ]
  },
  {
   "cell_type": "code",
   "execution_count": 40,
   "metadata": {},
   "outputs": [
    {
     "name": "stdout",
     "output_type": "stream",
     "text": [
      "enter your guess from 1 to 100: 47\n",
      "Cold!\n",
      "enter your guess from 1 to 100: 50\n",
      "Warmer!\n",
      "enter your guess from 1 to 100: 55\n",
      "Warmer!\n",
      "enter your guess from 1 to 100: 58\n",
      "Warmer!\n",
      "enter your guess from 1 to 100: 59\n",
      "Warmer!\n",
      "enter your guess from 1 to 100: 65\n",
      "Colder!\n",
      "enter your guess from 1 to 100: 62\n",
      "Warmer!\n",
      "enter your guess from 1 to 100: 61\n",
      "you have guessed it correct in 8 guesses!\n"
     ]
    }
   ],
   "source": [
    "while True:\n",
    "\n",
    "    # we can copy the code from above to take an input\n",
    "    guess=int(input(\"enter your guess from 1 to 100: \"))\n",
    "    if guess<1 and guess>100:\n",
    "        print(\"Out of bounds!\")\n",
    "        continue\n",
    "        \n",
    "    if guess==num:\n",
    "        print(f\"you have guessed it correct in {len(guesses)} guesses!\")\n",
    "        break\n",
    "        \n",
    "    guesses.append(guess)\n",
    "    \n",
    "    if guesses[-2]:\n",
    "        if abs(num-guess)<abs(num-guesses[-2]):\n",
    "            print(\"Warmer!\")\n",
    "        else:\n",
    "            print(\"Colder!\")\n",
    "            \n",
    "    else:\n",
    "        if abs(num-guess)<=10:\n",
    "            print(\"warm!\")\n",
    "        else:\n",
    "            print(\"Cold!\")\n",
    "\n",
    "    pass"
   ]
  },
  {
   "cell_type": "markdown",
   "metadata": {},
   "source": [
    "That's it! You've just programmed your first game!\n",
    "\n",
    "In the next section we'll learn how to turn some of these repetitive actions into *functions* that can be called whenever we need them."
   ]
  },
  {
   "cell_type": "markdown",
   "metadata": {},
   "source": [
    "### Good Job!"
   ]
  }
 ],
 "metadata": {
  "kernelspec": {
   "display_name": "Python 3",
   "language": "python",
   "name": "python3"
  },
  "language_info": {
   "codemirror_mode": {
    "name": "ipython",
    "version": 3
   },
   "file_extension": ".py",
   "mimetype": "text/x-python",
   "name": "python",
   "nbconvert_exporter": "python",
   "pygments_lexer": "ipython3",
   "version": "3.8.8"
  }
 },
 "nbformat": 4,
 "nbformat_minor": 2
}
