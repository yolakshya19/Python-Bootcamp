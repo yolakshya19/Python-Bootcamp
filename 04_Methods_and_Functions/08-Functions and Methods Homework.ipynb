{
 "cells": [
  {
   "cell_type": "markdown",
   "metadata": {},
   "source": [
    "___\n",
    "\n",
    "<a href='https://www.udemy.com/user/joseportilla/'><img src='../Pierian_Data_Logo.png'/></a>\n",
    "___\n",
    "<center><em>Content Copyright by Pierian Data</em></center>"
   ]
  },
  {
   "cell_type": "markdown",
   "metadata": {},
   "source": [
    "# Functions and Methods Homework \n",
    "\n",
    "Complete the following questions:\n",
    "____\n",
    "**Write a function that computes the volume of a sphere given its radius.**\n",
    "<p>The volume of a sphere is given as $$\\frac{4}{3} πr^3$$</p>"
   ]
  },
  {
   "cell_type": "code",
   "execution_count": 9,
   "metadata": {},
   "outputs": [],
   "source": [
    "def vol(rad):\n",
    "    return 4/3*3.14*(rad**3)"
   ]
  },
  {
   "cell_type": "code",
   "execution_count": 10,
   "metadata": {},
   "outputs": [
    {
     "data": {
      "text/plain": [
       "33.49333333333333"
      ]
     },
     "execution_count": 10,
     "metadata": {},
     "output_type": "execute_result"
    }
   ],
   "source": [
    "# Check\n",
    "vol(2)"
   ]
  },
  {
   "cell_type": "markdown",
   "metadata": {},
   "source": [
    "___\n",
    "**Write a function that checks whether a number is in a given range (inclusive of high and low)**"
   ]
  },
  {
   "cell_type": "code",
   "execution_count": 54,
   "metadata": {},
   "outputs": [],
   "source": [
    "def ran_check(num,low,high):\n",
    "    if num>=low and num<=high:\n",
    "        print(f'{num} is in the range between {low} and {high}')\n",
    "    else:\n",
    "        print(\"number is not in the given range\")\n",
    "\n",
    "        #____OR____\n",
    "        \n",
    "def ran_check(num,low,high):\n",
    "    if num in range(low,high+1):\n",
    "        print(f'{num} is in the range between {low} and {high}')\n",
    "    else:\n",
    "        print(\"number is not in the given range\")"
   ]
  },
  {
   "cell_type": "code",
   "execution_count": 55,
   "metadata": {},
   "outputs": [
    {
     "name": "stdout",
     "output_type": "stream",
     "text": [
      "10 is in the range between 6 and 13\n"
     ]
    }
   ],
   "source": [
    "# Check\n",
    "ran_check(10,6,13)"
   ]
  },
  {
   "cell_type": "markdown",
   "metadata": {},
   "source": [
    "If you only wanted to return a boolean:"
   ]
  },
  {
   "cell_type": "code",
   "execution_count": 58,
   "metadata": {},
   "outputs": [],
   "source": [
    "def ran_bool(num,low,high):\n",
    "    return num>=low and num<=high\n",
    "   \n",
    "    #____OR____\n",
    "    \n",
    "def ran_check(num,low,high):\n",
    "    return num in range(low,high+1)"
   ]
  },
  {
   "cell_type": "code",
   "execution_count": 59,
   "metadata": {},
   "outputs": [
    {
     "data": {
      "text/plain": [
       "False"
      ]
     },
     "execution_count": 59,
     "metadata": {},
     "output_type": "execute_result"
    }
   ],
   "source": [
    "ran_bool(3,4,10)"
   ]
  },
  {
   "cell_type": "markdown",
   "metadata": {},
   "source": [
    "____\n",
    "**Write a Python function that accepts a string and calculates the number of upper case letters and lower case letters.**\n",
    "\n",
    "    Sample String : 'Hello Mr. Rogers, how are you this fine Tuesday?'\n",
    "    Expected Output : \n",
    "    No. of Upper case characters : 4\n",
    "    No. of Lower case Characters : 33\n",
    "\n",
    "HINT: Two string methods that might prove useful: **.isupper()** and **.islower()**\n",
    "\n",
    "If you feel ambitious, explore the Collections module to solve this problem!"
   ]
  },
  {
   "cell_type": "code",
   "execution_count": 65,
   "metadata": {},
   "outputs": [],
   "source": [
    "def up_low(s):\n",
    "    upper=0\n",
    "    lower=0\n",
    "    for letters in s:\n",
    "        if letters.isupper():\n",
    "            upper+=1\n",
    "        elif letters.islower():\n",
    "            lower+=1\n",
    "        else:       #for punctuation marks \n",
    "            pass\n",
    "        \n",
    "    print(\"original string: \"+s)\n",
    "    print(f'no. of lower case letters are: {lower}')\n",
    "    print(f'no. of upper case letters are: {upper}')\n",
    "    \n",
    "    #____OR______\n",
    "    \n",
    "def up_low(s):\n",
    "    d={'upper':0,'lower':0}     #making a dictionary instead of counters\n",
    "    \n",
    "    for letters in s:\n",
    "        if letters.isupper():\n",
    "            d['upper'] += 1\n",
    "        elif letters.islower():\n",
    "            d['lower'] += 1\n",
    "        else:       #for punctuation marks \n",
    "            pass\n",
    "        \n",
    "    print(\"original string: \"+s)\n",
    "    print(f'no. of lower case letters are: {d[\"lower\"]}')\n",
    "    print(f'no. of upper case letters are: {d[\"upper\"]}')"
   ]
  },
  {
   "cell_type": "code",
   "execution_count": 66,
   "metadata": {},
   "outputs": [
    {
     "name": "stdout",
     "output_type": "stream",
     "text": [
      "original string: Good Evening, my name is Lakshya Dhawan?\n",
      "no. of lower case letters are: 28\n",
      "no. of upper case letters are: 4\n"
     ]
    }
   ],
   "source": [
    "s = 'Good Evening, my name is Lakshya Dhawan?'\n",
    "up_low(s)"
   ]
  },
  {
   "cell_type": "markdown",
   "metadata": {},
   "source": [
    "____\n",
    "**Write a Python function that takes a list and returns a new list with unique elements of the first list.**\n",
    "\n",
    "    Sample List : [1,1,1,1,2,2,3,3,3,3,4,5]\n",
    "    Unique List : [1, 2, 3, 4, 5]"
   ]
  },
  {
   "cell_type": "code",
   "execution_count": 67,
   "metadata": {},
   "outputs": [],
   "source": [
    "def unique_list(lst):\n",
    "    unique=set(lst)\n",
    "    \n",
    "    return list(unique)\n",
    "\n",
    "      #____OR____\n",
    "    \n",
    "def unique_list(lst):    #more logical way\n",
    "    seen_nums=[]\n",
    "    \n",
    "    for number in lst:\n",
    "        if number not in seen_nums:\n",
    "            seen_nums.append(number)\n",
    "            \n",
    "    return seen_nums"
   ]
  },
  {
   "cell_type": "code",
   "execution_count": 68,
   "metadata": {},
   "outputs": [
    {
     "data": {
      "text/plain": [
       "[1, 2, 3, 4, 5, 6, 7, 9]"
      ]
     },
     "execution_count": 68,
     "metadata": {},
     "output_type": "execute_result"
    }
   ],
   "source": [
    "unique_list([1,1,1,1,2,2,3,3,3,3,4,5,6,6,6,6,7,7,7,9,9,9,9])"
   ]
  },
  {
   "cell_type": "markdown",
   "metadata": {},
   "source": [
    "____\n",
    "**Write a Python function to multiply all the numbers in a list.**\n",
    "\n",
    "    Sample List : [1, 2, 3, -4]\n",
    "    Expected Output : -24"
   ]
  },
  {
   "cell_type": "code",
   "execution_count": 71,
   "metadata": {},
   "outputs": [],
   "source": [
    "def multiply(numbers): \n",
    "    product=1     #don't make the mistake of starting this variable with zero(0)\n",
    "    for num in numbers:\n",
    "        product*=num\n",
    "    return product    "
   ]
  },
  {
   "cell_type": "code",
   "execution_count": 72,
   "metadata": {},
   "outputs": [
    {
     "data": {
      "text/plain": [
       "-120"
      ]
     },
     "execution_count": 72,
     "metadata": {},
     "output_type": "execute_result"
    }
   ],
   "source": [
    "multiply([1,2,3,-4,5])"
   ]
  },
  {
   "cell_type": "markdown",
   "metadata": {},
   "source": [
    "____\n",
    "**Write a Python function that checks whether a word or phrase is palindrome or not.**\n",
    "\n",
    "Note: A palindrome is word, phrase, or sequence that reads the same backward as forward, e.g., madam,kayak,racecar, or a phrase \"nurses run\". Hint: You may want to check out the .replace() method in a string to help out with dealing with spaces. Also google search how to reverse a string in Python, there are some clever ways to do it with slicing notation."
   ]
  },
  {
   "cell_type": "code",
   "execution_count": 79,
   "metadata": {},
   "outputs": [],
   "source": [
    "def palindrome(s):\n",
    "    #removing spaces between the words of the phrase\n",
    "    s=s.split()\n",
    "    s=''.join(s)\n",
    "    #check the reverse\n",
    "    if s==s[::-1]:\n",
    "        return True\n",
    "    else:\n",
    "        return False\n",
    "    \n",
    "    #____OR____\n",
    "\n",
    "#using replace() method\n",
    "\n",
    "def palindrome(s):\n",
    "    #removing spaces between the words of the phrase\n",
    "    \n",
    "    s=s.replace(' ','')    #replace spaces(' ') with nothing at that place('')\n",
    "    \n",
    "    #check the reverse\n",
    "    return s==s[::-1]"
   ]
  },
  {
   "cell_type": "code",
   "execution_count": 80,
   "metadata": {},
   "outputs": [
    {
     "data": {
      "text/plain": [
       "True"
      ]
     },
     "execution_count": 80,
     "metadata": {},
     "output_type": "execute_result"
    }
   ],
   "source": [
    "palindrome('nurses run')"
   ]
  },
  {
   "cell_type": "markdown",
   "metadata": {},
   "source": [
    "____\n",
    "#### Hard:\n",
    "\n",
    "**Write a Python function to check whether a string is pangram or not. (Assume the string passed in does not have any punctuation)**\n",
    "\n",
    "    Note : Pangrams are words or sentences containing every letter of the alphabet at least once.\n",
    "    For example : \"The quick brown fox jumps over the lazy dog\"\n",
    "\n",
    "Hint: You may want to use .replace() method to get rid of spaces.\n",
    "\n",
    "Hint: Look at the [string module](https://stackoverflow.com/questions/16060899/alphabet-range-in-python)\n",
    "\n",
    "Hint: In case you want to use [set comparisons](https://medium.com/better-programming/a-visual-guide-to-set-comparisons-in-python-6ab7edb9ec41)"
   ]
  },
  {
   "cell_type": "code",
   "execution_count": 95,
   "metadata": {},
   "outputs": [],
   "source": [
    "import string\n",
    "\n",
    "def ispangram(str1, alphabet=string.ascii_lowercase):\n",
    "    \n",
    "    #create a set of all alphabets\n",
    "    alphabet_set=set(alphabet)\n",
    "    print(alphabet_set)       #just to see what is there in alphabet_set\n",
    "    \n",
    "    #remove spaces from the string\n",
    "    str1 = str1.replace(' ','')\n",
    "    \n",
    "    #convert the string to lowercase\n",
    "    str1=str1.lower()\n",
    "    \n",
    "    #create a set of string to grab unique alphabets in the string\n",
    "    str1 = set(str1)\n",
    "    \n",
    "    #comparing string set with alphabets set\n",
    "    return str1==alphabet_set"
   ]
  },
  {
   "cell_type": "code",
   "execution_count": 96,
   "metadata": {},
   "outputs": [
    {
     "name": "stdout",
     "output_type": "stream",
     "text": [
      "{'m', 'x', 'e', 'r', 'g', 'c', 'o', 'i', 'f', 'h', 'p', 't', 'a', 'k', 'q', 'w', 'u', 'l', 'v', 's', 'z', 'd', 'j', 'b', 'n', 'y'}\n"
     ]
    },
    {
     "data": {
      "text/plain": [
       "True"
      ]
     },
     "execution_count": 96,
     "metadata": {},
     "output_type": "execute_result"
    }
   ],
   "source": [
    "ispangram(\"The quick brown fox jumps over the lazy dog\")"
   ]
  },
  {
   "cell_type": "code",
   "execution_count": 97,
   "metadata": {},
   "outputs": [
    {
     "data": {
      "text/plain": [
       "'abcdefghijklmnopqrstuvwxyz'"
      ]
     },
     "execution_count": 97,
     "metadata": {},
     "output_type": "execute_result"
    }
   ],
   "source": [
    "string.ascii_lowercase"
   ]
  },
  {
   "cell_type": "markdown",
   "metadata": {
    "collapsed": true
   },
   "source": [
    "#### Great Job!"
   ]
  }
 ],
 "metadata": {
  "kernelspec": {
   "display_name": "Python 3",
   "language": "python",
   "name": "python3"
  },
  "language_info": {
   "codemirror_mode": {
    "name": "ipython",
    "version": 3
   },
   "file_extension": ".py",
   "mimetype": "text/x-python",
   "name": "python",
   "nbconvert_exporter": "python",
   "pygments_lexer": "ipython3",
   "version": "3.8.8"
  }
 },
 "nbformat": 4,
 "nbformat_minor": 1
}
